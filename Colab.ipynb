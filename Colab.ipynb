{
 "cells": [
  {
   "cell_type": "markdown",
   "metadata": {
    "id": "i7Hf2tlnAf_K"
   },
   "source": [
    "# Pre-Processing"
   ]
  },
  {
   "cell_type": "markdown",
   "metadata": {},
   "source": [
    "## Setup environment "
   ]
  },
  {
   "cell_type": "code",
   "execution_count": 1,
   "metadata": {
    "colab": {
     "base_uri": "https://localhost:8080/"
    },
    "id": "XpNuTR0J483A",
    "outputId": "fc7dcfbb-fa1e-4183-eb78-f2fd5bc74e3d",
    "tags": []
   },
   "outputs": [
    {
     "name": "stdout",
     "output_type": "stream",
     "text": [
      "Requirement already satisfied: matplotlib in c:\\users\\trist\\scoop\\persist\\python\\lib\\site-packages (3.6.3)\n",
      "Requirement already satisfied: numpy in c:\\users\\trist\\scoop\\persist\\python\\lib\\site-packages (1.24.2)\n",
      "Requirement already satisfied: pandas in c:\\users\\trist\\scoop\\persist\\python\\lib\\site-packages (1.5.3)\n",
      "Requirement already satisfied: contourpy>=1.0.1 in c:\\users\\trist\\scoop\\persist\\python\\lib\\site-packages (from matplotlib) (1.0.7)\n",
      "Requirement already satisfied: fonttools>=4.22.0 in c:\\users\\trist\\scoop\\persist\\python\\lib\\site-packages (from matplotlib) (4.38.0)\n",
      "Requirement already satisfied: kiwisolver>=1.0.1 in c:\\users\\trist\\scoop\\persist\\python\\lib\\site-packages (from matplotlib) (1.4.4)\n",
      "Requirement already satisfied: packaging>=20.0 in c:\\users\\trist\\scoop\\persist\\python\\lib\\site-packages (from matplotlib) (23.0)\n",
      "Requirement already satisfied: pillow>=6.2.0 in c:\\users\\trist\\scoop\\persist\\python\\lib\\site-packages (from matplotlib) (9.4.0)\n",
      "Requirement already satisfied: python-dateutil>=2.7 in c:\\users\\trist\\scoop\\persist\\python\\lib\\site-packages (from matplotlib) (2.8.2)\n",
      "Requirement already satisfied: cycler>=0.10 in c:\\users\\trist\\scoop\\persist\\python\\lib\\site-packages (from matplotlib) (0.11.0)\n",
      "Requirement already satisfied: pyparsing>=2.2.1 in c:\\users\\trist\\scoop\\persist\\python\\lib\\site-packages (from matplotlib) (3.0.9)\n",
      "Requirement already satisfied: pytz>=2020.1 in c:\\users\\trist\\scoop\\persist\\python\\lib\\site-packages (from pandas) (2022.7.1)\n",
      "Requirement already satisfied: six>=1.5 in c:\\users\\trist\\scoop\\persist\\python\\lib\\site-packages (from python-dateutil>=2.7->matplotlib) (1.16.0)\n",
      "Requirement already satisfied: scipy in c:\\users\\trist\\scoop\\persist\\python\\lib\\site-packages (1.10.0)\n",
      "Requirement already satisfied: sklearn in c:\\users\\trist\\scoop\\persist\\python\\lib\\site-packages (0.0.post1)\n",
      "Requirement already satisfied: numpy<1.27.0,>=1.19.5 in c:\\users\\trist\\scoop\\persist\\python\\lib\\site-packages (from scipy) (1.24.2)\n",
      "Requirement already satisfied: tqdm in c:\\users\\trist\\scoop\\persist\\python\\lib\\site-packages (4.65.0)\n",
      "Requirement already satisfied: colorama in c:\\users\\trist\\scoop\\persist\\python\\lib\\site-packages (from tqdm) (0.4.6)\n"
     ]
    }
   ],
   "source": [
    "!pip install matplotlib numpy pandas\n",
    "!pip install scipy sklearn\n",
    "!pip install tqdm"
   ]
  },
  {
   "cell_type": "code",
   "execution_count": 2,
   "metadata": {
    "id": "dHRErsu6l16n",
    "tags": []
   },
   "outputs": [],
   "source": [
    "import matplotlib.pyplot as plt\n",
    "import numpy as np\n",
    "import pandas as pd\n",
    "from tqdm import tqdm # Loading progress\n",
    "\n",
    "np.random.seed(0)"
   ]
  },
  {
   "cell_type": "markdown",
   "metadata": {},
   "source": [
    "## Import Data"
   ]
  },
  {
   "cell_type": "code",
   "execution_count": null,
   "metadata": {
    "colab": {
     "base_uri": "https://localhost:8080/"
    },
    "id": "pfRTmMqJnC7i",
    "outputId": "b40b0cc3-8ea2-4f47-d922-fcf6f5aabd68",
    "tags": []
   },
   "outputs": [],
   "source": []
  },
  {
   "cell_type": "code",
   "execution_count": 3,
   "metadata": {
    "id": "kVAQSN7smISS",
    "tags": []
   },
   "outputs": [],
   "source": [
    "def unpickle(file):\n",
    "    import pickle\n",
    "\n",
    "    with open(file, \"rb\") as fo:\n",
    "        dict = pickle.load(fo, encoding=\"bytes\")\n",
    "    return dict"
   ]
  },
  {
   "cell_type": "code",
   "execution_count": 4,
   "metadata": {
    "id": "HQO7SJr0qi1F",
    "tags": []
   },
   "outputs": [],
   "source": [
    "data_batch_1 = unpickle(\"data/data_batch_1\")\n",
    "data_batch_2 = unpickle(\"data/data_batch_2\")\n",
    "data_batch_3 = unpickle(\"data/data_batch_3\")\n",
    "data_batch_4 = unpickle(\"data/data_batch_4\")\n",
    "data_batch_5 = unpickle(\"data/data_batch_5\")\n",
    "test_batch = unpickle(\"data/test_batch\")\n",
    "batches = unpickle(\"data/batches.meta\")"
   ]
  },
  {
   "cell_type": "code",
   "execution_count": 5,
   "metadata": {
    "id": "04weLkQ1DGLK",
    "tags": []
   },
   "outputs": [],
   "source": [
    "Y1 = np.array(data_batch_1[b\"labels\"])\n",
    "\n",
    "X1 = np.array(data_batch_1[b\"data\"])"
   ]
  },
  {
   "cell_type": "markdown",
   "metadata": {
    "id": "HcUi0kiWJ8DS"
   },
   "source": [
    "Normalization:"
   ]
  },
  {
   "cell_type": "code",
   "execution_count": 6,
   "metadata": {
    "id": "3g2fMdeLEMRk",
    "tags": []
   },
   "outputs": [],
   "source": [
    "X1 = X1 - np.mean(X1)\n",
    "X1 /= np.std(X1)"
   ]
  },
  {
   "cell_type": "code",
   "execution_count": 7,
   "metadata": {
    "id": "nMsy2waLDpMu",
    "tags": []
   },
   "outputs": [],
   "source": [
    "def show_image(image):\n",
    "    pix = image.reshape(3, 1024).T.reshape(32, 32, 3)\n",
    "    plt.imshow(pix)"
   ]
  },
  {
   "cell_type": "code",
   "execution_count": 8,
   "metadata": {
    "colab": {
     "base_uri": "https://localhost:8080/",
     "height": 266
    },
    "id": "Pj41BRQdGdoN",
    "outputId": "62817403-c5d0-4e71-8aa3-4d78ede4bd79",
    "tags": []
   },
   "outputs": [
    {
     "data": {
      "image/png": "[encoded data removed]",
      "text/plain": [
       "<Figure size 640x480 with 1 Axes>"
      ]
     },
     "metadata": {},
     "output_type": "display_data"
    }
   ],
   "source": [
    "show_image(data_batch_1[b\"data\"][5])"
   ]
  },
  {
   "cell_type": "code",
   "execution_count": 9,
   "metadata": {
    "colab": {
     "base_uri": "https://localhost:8080/"
    },
    "id": "nhA1E7bf3Ezr",
    "outputId": "d1cc2974-2e53-4f73-89d7-583c28e27220",
    "tags": []
   },
   "outputs": [
    {
     "data": {
      "text/plain": [
       "dict_keys([b'num_cases_per_batch', b'label_names', b'num_vis'])"
      ]
     },
     "execution_count": 9,
     "metadata": {},
     "output_type": "execute_result"
    }
   ],
   "source": [
    "batches.keys()"
   ]
  },
  {
   "cell_type": "code",
   "execution_count": 10,
   "metadata": {
    "colab": {
     "base_uri": "https://localhost:8080/"
    },
    "id": "wF_10ROU5vpj",
    "outputId": "2adf6be3-d26a-49c2-8519-bb2409cab1a9",
    "tags": []
   },
   "outputs": [
    {
     "data": {
      "text/plain": [
       "{b'num_cases_per_batch': 10000,\n",
       " b'label_names': [b'airplane',\n",
       "  b'automobile',\n",
       "  b'bird',\n",
       "  b'cat',\n",
       "  b'deer',\n",
       "  b'dog',\n",
       "  b'frog',\n",
       "  b'horse',\n",
       "  b'ship',\n",
       "  b'truck'],\n",
       " b'num_vis': 3072}"
      ]
     },
     "execution_count": 10,
     "metadata": {},
     "output_type": "execute_result"
    }
   ],
   "source": [
    "batches"
   ]
  },
  {
   "cell_type": "code",
   "execution_count": 11,
   "metadata": {
    "colab": {
     "base_uri": "https://localhost:8080/"
    },
    "id": "ISBZ1xZI5xUv",
    "outputId": "c9c30523-ff2d-4336-d39d-326d3957dfc4",
    "tags": []
   },
   "outputs": [
    {
     "data": {
      "text/plain": [
       "b'airplane'"
      ]
     },
     "execution_count": 11,
     "metadata": {},
     "output_type": "execute_result"
    }
   ],
   "source": [
    "batches[b\"label_names\"][0]"
   ]
  },
  {
   "cell_type": "code",
   "execution_count": 12,
   "metadata": {
    "id": "Eev96ldr8JHS",
    "tags": []
   },
   "outputs": [],
   "source": [
    "labels = batches[b\"label_names\"]"
   ]
  },
  {
   "cell_type": "code",
   "execution_count": 13,
   "metadata": {
    "colab": {
     "base_uri": "https://localhost:8080/"
    },
    "id": "DZMKjQ3ZWQIO",
    "outputId": "d60889a8-6d26-48fd-c92b-8ad502e13f1f",
    "tags": []
   },
   "outputs": [
    {
     "name": "stdout",
     "output_type": "stream",
     "text": [
      "X shape: (10000, 3072), Y shape: (10000,), [6 9 9 ... 1 1 5]\n"
     ]
    }
   ],
   "source": [
    "print(f\"X shape: {X1.shape}, \" + f\"Y shape: {Y1.shape}, \" + f\"{Y1}\")"
   ]
  },
  {
   "cell_type": "markdown",
   "metadata": {
    "id": "gOp0-0lRTd2f"
   },
   "source": [
    "**TO DO:**\n",
    "1.   Vectorize\n",
    "2.   Center\n",
    "3.   Normalize\n"
   ]
  },
  {
   "cell_type": "markdown",
   "metadata": {
    "tags": []
   },
   "source": [
    "# OHE"
   ]
  },
  {
   "cell_type": "code",
   "execution_count": 14,
   "metadata": {
    "tags": []
   },
   "outputs": [],
   "source": [
    "def OHE(dataset):\n",
    "    data_ohe = np.eye(10)[dataset]\n",
    "    return data_ohe"
   ]
  },
  {
   "cell_type": "code",
   "execution_count": 15,
   "metadata": {
    "colab": {
     "base_uri": "https://localhost:8080/"
    },
    "id": "qabD8hXs-28k",
    "outputId": "9b2a2af4-6e2c-4e4f-ba64-3d470c27b676",
    "tags": []
   },
   "outputs": [
    {
     "name": "stdout",
     "output_type": "stream",
     "text": [
      "Y1: [6 9 9 4 1], Y1_OHE: [[0. 0. 0. 0. 0. 0. 1. 0. 0. 0.]\n",
      " [0. 0. 0. 0. 0. 0. 0. 0. 0. 1.]\n",
      " [0. 0. 0. 0. 0. 0. 0. 0. 0. 1.]\n",
      " [0. 0. 0. 0. 1. 0. 0. 0. 0. 0.]\n",
      " [0. 1. 0. 0. 0. 0. 0. 0. 0. 0.]]\n"
     ]
    }
   ],
   "source": [
    "Y1_ohe = OHE(Y1)\n",
    "print(f\"Y1: {Y1[:5]}, Y1_OHE: {Y1_ohe[:5]}\")"
   ]
  },
  {
   "cell_type": "markdown",
   "metadata": {
    "id": "TYV2XNTuAZr9",
    "tags": []
   },
   "source": [
    "# MLP"
   ]
  },
  {
   "cell_type": "markdown",
   "metadata": {
    "tags": []
   },
   "source": [
    "## Layer"
   ]
  },
  {
   "cell_type": "code",
   "execution_count": 16,
   "metadata": {
    "id": "4cIj51BLmIg5",
    "tags": []
   },
   "outputs": [],
   "source": [
    "class Layer:\n",
    "    def __init__(self, n_inputs, units):\n",
    "        \"\"\"\n",
    "        Layer of neurons/units \\n\n",
    "        :param n_inputs: size of input that each unit receives\n",
    "        :param units: number of units in layer\n",
    "        \"\"\"\n",
    "        self.dinputs = None\n",
    "        self.db = None\n",
    "        self.dw = None\n",
    "        self.inputs = None\n",
    "        self.output = None\n",
    "        # Initialize weights\n",
    "        self.w = 0.01 * np.random.randn(n_inputs, units)\n",
    "        self.b = np.zeros((1, units))\n",
    "\n",
    "    def forward(self, inputs):\n",
    "        \"\"\"\n",
    "        Perform a forward pass through the layer \\n\n",
    "        Saves result in output\n",
    "        :param inputs: input to pass through units\n",
    "        \"\"\"\n",
    "        self.inputs = inputs\n",
    "        self.output = np.dot(inputs, self.w) + self.b\n",
    "\n",
    "    def backward(self, dvals):\n",
    "        \"\"\"\n",
    "        Perform a backward pass through the layer \\n\n",
    "        Saves the result in dinputs\n",
    "        :param dvals: the incoming derivatives\n",
    "        \"\"\"\n",
    "        # Gradients\n",
    "        self.dw = np.dot(self.inputs.T, dvals)\n",
    "        self.db = np.sum(dvals, axis=0, keepdims=True)\n",
    "        # Gradient on values\n",
    "        self.dinputs = np.dot(dvals, self.w.T)\n",
    " "
   ]
  },
  {
   "cell_type": "markdown",
   "metadata": {},
   "source": [
    "## Activation Functions"
   ]
  },
  {
   "cell_type": "markdown",
   "metadata": {},
   "source": [
    "### ReLU"
   ]
  },
  {
   "cell_type": "code",
   "execution_count": 17,
   "metadata": {
    "id": "fwTuegiYm4eS",
    "tags": []
   },
   "outputs": [],
   "source": [
    "class ReLU:\n",
    "    # Apply ReLU to inputs\n",
    "    def __init__(self):\n",
    "        \"\"\"\n",
    "        Rectified Linear Unit \\n\n",
    "        Activation function equivalent to max(0, input)\n",
    "        \"\"\"\n",
    "        self.dinputs = None\n",
    "        self.output = None\n",
    "        self.inputs = None\n",
    "\n",
    "    def forward(self, inputs):\n",
    "        \"\"\"\n",
    "        Apply ReLU to inputs \\n\n",
    "        Saves inputs \\n\n",
    "        Saves result to output\n",
    "        :param inputs: inputs\n",
    "        \"\"\"\n",
    "        self.inputs = inputs\n",
    "        # Apply ReLU\n",
    "        self.output = np.maximum(0, inputs)\n",
    "\n",
    "    def backward(self, dvals):\n",
    "        \"\"\"\n",
    "        Calculate derivatives\n",
    "        Saves result to dinputs \\n\n",
    "        :param dvals: incoming derivatives\n",
    "        \"\"\"\n",
    "        self.dinputs = dvals.copy()\n",
    "        # Derivative of ReLU\n",
    "        self.dinputs[self.inputs <= 0] = 0"
   ]
  },
  {
   "cell_type": "markdown",
   "metadata": {},
   "source": [
    "### Softmax"
   ]
  },
  {
   "cell_type": "code",
   "execution_count": 18,
   "metadata": {
    "id": "P--Qy4osnzYn",
    "tags": []
   },
   "outputs": [],
   "source": [
    "class Softmax:\n",
    "    def __init__(self):\n",
    "        \"\"\"\n",
    "        Softmax activation function for classification\n",
    "        \"\"\"\n",
    "        self.dinputs = None\n",
    "        self.output = None\n",
    "        self.inputs = None\n",
    "\n",
    "    def forward(self, inputs):\n",
    "        \"\"\"\n",
    "        Apply softmax to inputs \\n\n",
    "        Saves result to output\n",
    "        :param inputs: values to pass through softmax\n",
    "        \"\"\"\n",
    "        self.inputs = inputs\n",
    "        # Probabilities of each class\n",
    "        exp = np.exp(inputs - np.max(inputs, axis=1, keepdims=True))\n",
    "        # Normalize probabilities between 0 and 1\n",
    "        probs = exp / np.sum(exp, axis=1, keepdims=True)\n",
    "\n",
    "        self.output = probs\n",
    "\n",
    "    # Calculate derivatives to be able to pass them backwards\n",
    "    def backward(self, dvals):\n",
    "        \"\"\"\n",
    "        Calculate derivatives \\n\n",
    "        Saves result to dinputs\n",
    "        :param dvals: incoming derivatives\n",
    "        \"\"\"\n",
    "        self.dinputs = np.empty_like(dvals)\n",
    "\n",
    "        # Enumerate outputs and gradients\n",
    "        for index, (output, single_dvals) in enumerate(zip(self.output, dvals)):\n",
    "            # Flatten\n",
    "            output = output.reshape(-1, 1)\n",
    "            # Jacobian\n",
    "            jacob = np.diagflat(output) - np.dot(output, output.T)\n",
    "            # calculate gradient and add to array\n",
    "            self.dinputs[index] = np.dot(jacob, single_dvals)"
   ]
  },
  {
   "cell_type": "markdown",
   "metadata": {},
   "source": [
    "## Gradient Descent"
   ]
  },
  {
   "cell_type": "code",
   "execution_count": 19,
   "metadata": {
    "id": "6TcLpKDAq2JJ",
    "tags": []
   },
   "outputs": [],
   "source": [
    "class SGD:\n",
    "    def __init__(self, learning=0.01, decay=0.0):\n",
    "        \"\"\"\n",
    "        Gradient descent (stochastic comes from outside this class)\n",
    "        :param learning: learning_rate of algorithm\n",
    "        :param decay: decay of learning_rate\n",
    "        \"\"\"\n",
    "        self.learning_rate = learning\n",
    "        self.current_learning_rate = learning\n",
    "        self.decay = decay\n",
    "        self.iterations = 0\n",
    "\n",
    "    def apply_decay(self):\n",
    "        \"\"\"\n",
    "        Decay learning rate\n",
    "        \"\"\"\n",
    "        self.current_learning_rate = self.learning_rate * (\n",
    "                1.0 / (1.0 + self.decay * self.iterations)\n",
    "        )\n",
    "\n",
    "    def update(self, layer):\n",
    "        \"\"\"\n",
    "        Update weights and biases of layer according to learning_rate\n",
    "        :param layer: layer to update\n",
    "        \"\"\"\n",
    "\n",
    "        delta_w = -self.current_learning_rate * layer.dw\n",
    "        delta_b = -self.current_learning_rate * layer.db\n",
    "\n",
    "        layer.w += delta_w\n",
    "        layer.b += delta_b\n",
    "\n",
    "    def post_update(self):\n",
    "        self.iterations += 1"
   ]
  },
  {
   "cell_type": "markdown",
   "metadata": {},
   "source": [
    "## Categorical Cross Entropy Loss"
   ]
  },
  {
   "cell_type": "code",
   "execution_count": 20,
   "metadata": {
    "id": "_yJyZuPGuqx1",
    "tags": []
   },
   "outputs": [],
   "source": [
    "class CategoricalCrossEntropyLoss:\n",
    "    def __init__(self):\n",
    "        \"\"\"\n",
    "        Helper class for container that will have\n",
    "        both loss and activation together\n",
    "        \"\"\"\n",
    "        self.dinputs = None\n",
    "\n",
    "    def calculate(self, output, y):\n",
    "        \"\"\"\n",
    "        Calculates forward and the mean_loss compared to the actual values\n",
    "        :param output: output of previous layer\n",
    "        :param y: actual y values\n",
    "        :return: mean loss of data\n",
    "        \"\"\"\n",
    "        losses = self.forward(output, y)\n",
    "\n",
    "        mean_loss = np.mean(losses)\n",
    "        return mean_loss\n",
    "\n",
    "    def forward(self, y_pred, y_true):\n",
    "        \"\"\"\n",
    "        Passes the inputs forward through the loss function\n",
    "        :param y_pred: predicted y values\n",
    "        :param y_true: actual y values to compare to\n",
    "        :return: negative log likelihood of each category\n",
    "        \"\"\"\n",
    "        n_samples = len(y_pred)\n",
    "\n",
    "        # clip values to avoid div by 0\n",
    "        y_pred_clip = np.clip(y_pred, 1e-7, 1 - 1e-7)\n",
    "\n",
    "        # print(f'Top 5 y true {y_true[:5]}, Y true shape: {y_true.shape}')\n",
    "        # print(f'Top 5 y pred {y_pred[:5]}, Y pred shape: {y_pred.shape}')\n",
    "        # for categorical labels\n",
    "        if len(y_true.shape) == 1:\n",
    "            correct = y_pred_clip[range(n_samples), y_true]\n",
    "\n",
    "        # for one-hot-encoded labels\n",
    "        elif len(y_true.shape) == 2:\n",
    "            correct = np.sum(y_pred_clip * y_true, axis=1)\n",
    "        # Negative log likelihood\n",
    "        return -np.log(correct)\n",
    "\n",
    "    def backward(self, dvals, y_true):\n",
    "        \"\"\"\n",
    "        Pass derivatives backwards through network\n",
    "        :param dvals: input derivatives\n",
    "        :param y_true: actual values\n",
    "        \"\"\"\n",
    "        # print(f'Top 5 y true {y_true[:5]}, Y true shape: {y_true.shape}')\n",
    "\n",
    "        n_samples = len(dvals)\n",
    "        n_labels = len(dvals[0])\n",
    "\n",
    "        # Turn into OHE vector\n",
    "        if len(y_true.shape) == 1:\n",
    "            y_true = np.eye(labels)[y_true]\n",
    "\n",
    "        # gradients\n",
    "        self.dinputs = -y_true / dvals\n",
    "        # norm grads\n",
    "        self.dinputs = self.dinputs / n_samples"
   ]
  },
  {
   "cell_type": "markdown",
   "metadata": {},
   "source": [
    "### Softmax + Cat loss helper"
   ]
  },
  {
   "cell_type": "code",
   "execution_count": 21,
   "metadata": {
    "id": "m1ou6O8iwm1V",
    "tags": []
   },
   "outputs": [],
   "source": [
    "class SoftmaxAndCategoricalLoss:\n",
    "    def __init__(self):\n",
    "        \"\"\"\n",
    "        Merges softmax and the loss function to calculate them together\n",
    "        \"\"\"\n",
    "        self.activation = Softmax()\n",
    "        self.loss = CategoricalCrossEntropyLoss()\n",
    "\n",
    "    def forward(self, inputs, y_true):\n",
    "        \"\"\"\n",
    "        Pass inputs through activation and calculate loss\n",
    "        :param inputs: network inputs\n",
    "        :param y_true: actual y values to calculate loss with\n",
    "        :return: mean loss of data if y_true is not None\n",
    "        \"\"\"\n",
    "        self.activation.forward(inputs)\n",
    "        self.output = self.activation.output\n",
    "        if y_true is not None:\n",
    "            return self.loss.calculate(self.output, y_true)\n",
    "\n",
    "    def backward(self, dvals, y_true):\n",
    "        \"\"\"\n",
    "        Pass derivatives backward through network\n",
    "        :param dvals: input derivatives\n",
    "        :param y_true: actual values\n",
    "        \"\"\"\n",
    "        n_samples = len(dvals)\n",
    "\n",
    "        if len(y_true.shape) == 2:\n",
    "            y_true = np.argmax(y_true, axis=1)\n",
    "\n",
    "        self.dinputs = dvals.copy()\n",
    "        # Grad\n",
    "        self.dinputs[range(n_samples), y_true] -= 1\n",
    "        # Norm\n",
    "        self.dinputs = self.dinputs / n_samples"
   ]
  },
  {
   "cell_type": "markdown",
   "metadata": {},
   "source": [
    "## MLP class"
   ]
  },
  {
   "cell_type": "code",
   "execution_count": 39,
   "metadata": {
    "id": "Syi6E9K3LQ26",
    "tags": []
   },
   "outputs": [],
   "source": [
    "class MLP:\n",
    "    def __init__(self, act_fun, num_hidden_layers, hid_layer_units, input_size,\n",
    "                 output_size, optimizer, max_iters=10000, record_updates=False,\n",
    "                 enable_mini_batch=True, batch_size=32):\n",
    "        \"\"\"\n",
    "        Multi Layer Perceptron for image classification\n",
    "        :param act_fun: activation function for hidden layers\n",
    "        :param num_hidden_layers: number of hidden layers\n",
    "        :param hid_layer_units: list of number of neurons/units per layer\n",
    "        :param input_size: number of inputs expected\n",
    "        :param output_size: size of output (num of classes for classification)\n",
    "        :param optimizer: optimizer class to be used for gradient descent\n",
    "        :param max_iters: maximum number of epochs to be run\n",
    "        :param record_updates: whether to record loss and accuracy history\n",
    "        :param enable_mini_batch: whether to use mini batches\n",
    "        :param batch_size: size of batch to use\n",
    "        \"\"\"\n",
    "        if num_hidden_layers != len(hid_layer_units):\n",
    "            raise Exception(\n",
    "                'Must provide list of units of size of hidden layers')\n",
    "\n",
    "        self.max_iters = max_iters\n",
    "        self.act_fun = act_fun\n",
    "        self.hidden_layers = num_hidden_layers\n",
    "        self.hid_layer_units = hid_layer_units\n",
    "        self.input_size = input_size\n",
    "        self.record_updates = record_updates\n",
    "        if record_updates:\n",
    "            self.loss_history = []\n",
    "            self.accuracy_history = []\n",
    "\n",
    "        self.enable_mini_batch = enable_mini_batch\n",
    "        self.batch_size = batch_size\n",
    "\n",
    "        # initialize MLP\n",
    "\n",
    "        self.hid_layers = []\n",
    "        self.hid_activations = []\n",
    "        self.create_layers(hid_layer_units, num_hidden_layers, input_size,\n",
    "                           output_size)\n",
    "\n",
    "        self.optimizer = optimizer\n",
    "\n",
    "    def create_layers(self, hid_layer_units, num_hidden_layers, input_size,\n",
    "                      output_size):\n",
    "        \"\"\"\n",
    "        Create layers of network\n",
    "        :param hid_layer_units: list containing number of neurons per layer\n",
    "        :param num_hidden_layers: number of layers\n",
    "        :param input_size: size of input given to network\n",
    "        :param output_size: size of output or number of classes\n",
    "        \"\"\"\n",
    "        # Create hidden layers\n",
    "        if num_hidden_layers >= 1:\n",
    "            # First layer takes in input\n",
    "            self.hid_layers.append(Layer(input_size, hid_layer_units[0]))\n",
    "            self.hid_activations.append(self.act_fun())\n",
    "            # Other layers take in input from previous layer and\n",
    "            # we're starting creation at index 1 = (i + 1),\n",
    "            # so input is i and number of neurons is i + 1\n",
    "            for i in range(0, self.hidden_layers - 1):\n",
    "                self.hid_layers.append(\n",
    "                    Layer(hid_layer_units[i], hid_layer_units[i + 1]))\n",
    "                self.hid_activations.append(self.act_fun())\n",
    "\n",
    "            self.output_layer = Layer(hid_layer_units[-1], output_size)\n",
    "            self.output_activation = SoftmaxAndCategoricalLoss()\n",
    "        # Only create output layer\n",
    "        else:\n",
    "            self.output_layer = Layer(input_size, output_size)\n",
    "            self.output_activation = SoftmaxAndCategoricalLoss()\n",
    "\n",
    "    def fit(self, X, y):\n",
    "        \"\"\"\n",
    "        Fit model to our data\n",
    "        :param X: inputs to the model\n",
    "        :param y: expected values of inputs\n",
    "        \"\"\"\n",
    "        for epoch in tqdm(range(self.max_iters)):\n",
    "\n",
    "            if self.enable_mini_batch:\n",
    "                mini_batches = self.create_mini_batches(X, y)\n",
    "                for mini_batch in mini_batches:\n",
    "                    x_mini, y_mini = mini_batch[:, :X.shape[1]], mini_batch[:,\n",
    "                                                                 X.shape[1]:]\n",
    "                    accuracy, loss = self.train(x_mini, y_mini)\n",
    "            else:\n",
    "                accuracy, loss = self.train(X, y)\n",
    "\n",
    "            if self.record_updates:\n",
    "                self.loss_history.append(loss)\n",
    "                self.accuracy_history.append(accuracy)\n",
    "\n",
    "            if epoch < 5:\n",
    "                self.print_info(accuracy, epoch + 1, loss)\n",
    "\n",
    "        self.print_info(accuracy, self.max_iters, loss)\n",
    "\n",
    "    def print_info(self, accuracy, epoch, loss):\n",
    "        print(f'epoch: {epoch}, ' +\n",
    "              f'acc: {accuracy:.3f}, ' +\n",
    "              f'loss: {loss:.3f}, ' +\n",
    "              f'lr: {self.optimizer.current_learning_rate}')\n",
    "\n",
    "    # Train network on data\n",
    "    def train(self, X, y):\n",
    "        \"\"\"\n",
    "        Train network on data \\n\n",
    "        Perform a forward and backward pass through the network\n",
    "        :param X: inputs to pass through network\n",
    "        :param y: expected values of data\n",
    "        :return: accuracy and loss of network on the data\n",
    "        \"\"\"\n",
    "        loss = self.forward(X, y)\n",
    "        accuracy = self.calculate_accuracy(y)\n",
    "\n",
    "        self.backward(y)\n",
    "\n",
    "        self.optimize()\n",
    "        return accuracy, loss\n",
    "\n",
    "    def optimize(self):\n",
    "        \"\"\"\n",
    "        Run optimizer on all layers\n",
    "        \"\"\"\n",
    "        self.optimizer.apply_decay()\n",
    "        for layer in self.hid_layers:\n",
    "            self.optimizer.update(layer)\n",
    "        self.optimizer.update(self.output_layer)\n",
    "        self.optimizer.post_update()\n",
    "\n",
    "    def backward(self, y):\n",
    "        \"\"\"\n",
    "        Perform backward pass through all layers\n",
    "        :param y: expected value of data\n",
    "        \"\"\"\n",
    "        self.output_activation.backward(self.output_activation.output,\n",
    "                                        y)\n",
    "        self.output_layer.backward(self.output_activation.dinputs)\n",
    "        prev_input = self.output_layer.dinputs\n",
    "        for layer, activation in zip(self.hid_layers[::-1],\n",
    "                                     self.hid_activations[::-1]):\n",
    "            activation.backward(prev_input)\n",
    "            layer.backward(activation.dinputs)\n",
    "            prev_input = layer.dinputs\n",
    "\n",
    "    def forward(self, X, y):\n",
    "        \"\"\"\n",
    "        Pass data through network and calculate loss and accuracy\n",
    "        of network\n",
    "        :param X: data to pass through network\n",
    "        :param y: actual values of data\n",
    "        :return: loss calculated by last layer of the network if y is not None\n",
    "        \"\"\"\n",
    "\n",
    "        prev_X = X\n",
    "        # Perform forward pass through all hidden layers\n",
    "        for layer, activation in zip(self.hid_layers,\n",
    "                                     self.hid_activations):\n",
    "            layer.forward(prev_X)\n",
    "            activation.forward(layer.output)\n",
    "            prev_X = activation.output\n",
    "        # Perform forward pass through output layer\n",
    "        self.output_layer.forward(prev_X)\n",
    "        loss = self.output_activation.forward(self.output_layer.output,\n",
    "                                              y)\n",
    "        return loss\n",
    "\n",
    "    def calculate_accuracy(self, y):\n",
    "        # predictions = np.argmax(self.output_layer.output, axis=1)\n",
    "        # # if len(y.shape) == 2:\n",
    "        # y_for_pred = np.argmax(y, axis=1)\n",
    "        # accuracy = np.mean(predictions == y_for_pred)\n",
    "        # return accuracy\n",
    "        return self.evaluate_acc(y, self.output_layer.output)\n",
    "    \n",
    "    def evaluate_acc(self, y_true, y_pred):\n",
    "        \"\"\"\n",
    "        Calculate accuracy\n",
    "        \n",
    "        \"\"\"\n",
    "        pred = np.argmax(y_pred, axis=1)\n",
    "        true = np.argmax(y_true, axis=1)\n",
    "        return np.mean(pred == true)\n",
    "\n",
    "    def predict(self, X):\n",
    "        \"\"\"\n",
    "        Pass input through network and predict y values\n",
    "        :param X: input to the network\n",
    "        :return: y predictions and loss\n",
    "        \"\"\"\n",
    "        # TODO: figure out how to do this\n",
    "        self.forward(X, None)\n",
    "        return self.output_activation.output\n",
    "\n",
    "\n",
    "    def create_mini_batches(self, X, y):\n",
    "        \"\"\"\n",
    "        Create mini batches with data\n",
    "        :param X: x values of data\n",
    "        :param y: y values of data\n",
    "        :return: mini batches of size self.batch_size\n",
    "        \"\"\"\n",
    "        data = np.column_stack([X, y])\n",
    "        np.random.shuffle(data)\n",
    "        n_mini_batches = data.shape[0] // self.batch_size\n",
    "        return np.array_split(data[:self.batch_size * n_mini_batches],\n",
    "                              n_mini_batches)"
   ]
  },
  {
   "cell_type": "markdown",
   "metadata": {},
   "source": [
    "# Run"
   ]
  },
  {
   "cell_type": "markdown",
   "metadata": {},
   "source": [
    "## Instantiate MLP"
   ]
  },
  {
   "cell_type": "code",
   "execution_count": 40,
   "metadata": {
    "colab": {
     "base_uri": "https://localhost:8080/"
    },
    "id": "22L71Po88PAU",
    "outputId": "1e5fb084-b37a-48c3-c3a3-b4af55dbea93",
    "tags": []
   },
   "outputs": [
    {
     "name": "stderr",
     "output_type": "stream",
     "text": [
      "  1%|▊                                                                                 | 1/100 [00:01<02:19,  1.41s/it]"
     ]
    },
    {
     "name": "stdout",
     "output_type": "stream",
     "text": [
      "epoch: 1, acc: 0.500, loss: 1.417, lr: 0.06157635467980295\n"
     ]
    },
    {
     "name": "stderr",
     "output_type": "stream",
     "text": [
      "  2%|█▋                                                                                | 2/100 [00:02<02:18,  1.42s/it]"
     ]
    },
    {
     "name": "stdout",
     "output_type": "stream",
     "text": [
      "epoch: 2, acc: 0.562, loss: 1.598, lr: 0.044464206313917294\n"
     ]
    },
    {
     "name": "stderr",
     "output_type": "stream",
     "text": [
      "  3%|██▍                                                                               | 3/100 [00:04<02:16,  1.41s/it]"
     ]
    },
    {
     "name": "stdout",
     "output_type": "stream",
     "text": [
      "epoch: 3, acc: 0.375, loss: 1.873, lr: 0.03479471120389701\n"
     ]
    },
    {
     "name": "stderr",
     "output_type": "stream",
     "text": [
      "  4%|███▎                                                                              | 4/100 [00:05<02:15,  1.41s/it]"
     ]
    },
    {
     "name": "stdout",
     "output_type": "stream",
     "text": [
      "epoch: 4, acc: 0.750, loss: 1.119, lr: 0.02857959416976279\n"
     ]
    },
    {
     "name": "stderr",
     "output_type": "stream",
     "text": [
      "  5%|████                                                                              | 5/100 [00:07<02:14,  1.42s/it]"
     ]
    },
    {
     "name": "stdout",
     "output_type": "stream",
     "text": [
      "epoch: 5, acc: 0.625, loss: 1.086, lr: 0.02424830261881668\n"
     ]
    },
    {
     "name": "stderr",
     "output_type": "stream",
     "text": [
      "100%|████████████████████████████████████████████████████████████████████████████████| 100/100 [02:22<00:00,  1.42s/it]"
     ]
    },
    {
     "name": "stdout",
     "output_type": "stream",
     "text": [
      "epoch: 100, acc: 1.000, loss: 0.053, lr: 0.0015748279500464573\n"
     ]
    },
    {
     "name": "stderr",
     "output_type": "stream",
     "text": [
      "\n"
     ]
    }
   ],
   "source": [
    "optimizer = SGD(learning=0.1, decay=0.001)\n",
    "mlp = MLP(\n",
    "    ReLU, 2, [64, 64], 3072, 10, optimizer, max_iters=100, record_updates=True, enable_mini_batch=True, batch_size=16\n",
    ")\n",
    "mlp.fit(X1, Y1_ohe)"
   ]
  },
  {
   "cell_type": "code",
   "execution_count": null,
   "metadata": {},
   "outputs": [],
   "source": []
  },
  {
   "cell_type": "markdown",
   "metadata": {},
   "source": [
    "## Plotting"
   ]
  },
  {
   "cell_type": "code",
   "execution_count": 41,
   "metadata": {
    "id": "dGX9PWL3-eYC"
   },
   "outputs": [
    {
     "data": {
      "text/plain": [
       "[<matplotlib.lines.Line2D at 0x18792552cb0>]"
      ]
     },
     "execution_count": 41,
     "metadata": {},
     "output_type": "execute_result"
    },
    {
     "data": {
      "image/png": "[encoded data removed]",
      "text/plain": [
       "<Figure size 640x480 with 1 Axes>"
      ]
     },
     "metadata": {},
     "output_type": "display_data"
    }
   ],
   "source": [
    "plt.plot(mlp.loss_history)"
   ]
  },
  {
   "cell_type": "code",
   "execution_count": 42,
   "metadata": {
    "tags": []
   },
   "outputs": [
    {
     "data": {
      "text/plain": [
       "[<matplotlib.lines.Line2D at 0x187926285b0>]"
      ]
     },
     "execution_count": 42,
     "metadata": {},
     "output_type": "execute_result"
    },
    {
     "data": {
      "image/png": "[encoded data removed]",
      "text/plain": [
       "<Figure size 640x480 with 1 Axes>"
      ]
     },
     "metadata": {},
     "output_type": "display_data"
    }
   ],
   "source": [
    "plt.plot(mlp.accuracy_history)"
   ]
  },
  {
   "cell_type": "code",
   "execution_count": 43,
   "metadata": {},
   "outputs": [
    {
     "data": {
      "text/plain": [
       "array([[2.83278811e-04, 1.26371062e-04, 1.21244678e-05, 1.85373756e-02,\n",
       "        7.32624315e-04, 5.50368531e-05, 9.80225054e-01, 2.35358022e-05,\n",
       "        3.61535617e-06, 9.83340461e-07]])"
      ]
     },
     "execution_count": 43,
     "metadata": {},
     "output_type": "execute_result"
    }
   ],
   "source": [
    "X1[0]\n",
    "Y1_ohe[0]\n",
    "mlp.predict(X1[0])"
   ]
  },
  {
   "cell_type": "code",
   "execution_count": null,
   "metadata": {},
   "outputs": [],
   "source": []
  },
  {
   "cell_type": "markdown",
   "metadata": {},
   "source": [
    "# Experiments"
   ]
  },
  {
   "cell_type": "markdown",
   "metadata": {},
   "source": [
    "## Three Models"
   ]
  },
  {
   "cell_type": "markdown",
   "metadata": {},
   "source": [
    "### No hidden Layers"
   ]
  },
  {
   "cell_type": "code",
   "execution_count": 58,
   "metadata": {
    "tags": []
   },
   "outputs": [
    {
     "name": "stderr",
     "output_type": "stream",
     "text": [
      "  0%|                                                                                 | 1/1000 [00:00<12:19,  1.35it/s]"
     ]
    },
    {
     "name": "stdout",
     "output_type": "stream",
     "text": [
      "epoch: 1, acc: 0.438, loss: 4.641, lr: 0.06157635467980295\n"
     ]
    },
    {
     "name": "stderr",
     "output_type": "stream",
     "text": [
      "  0%|▏                                                                                | 2/1000 [00:01<12:31,  1.33it/s]"
     ]
    },
    {
     "name": "stdout",
     "output_type": "stream",
     "text": [
      "epoch: 2, acc: 0.250, loss: 6.737, lr: 0.044464206313917294\n"
     ]
    },
    {
     "name": "stderr",
     "output_type": "stream",
     "text": [
      "  0%|▏                                                                                | 3/1000 [00:02<11:54,  1.40it/s]"
     ]
    },
    {
     "name": "stdout",
     "output_type": "stream",
     "text": [
      "epoch: 3, acc: 0.375, loss: 3.448, lr: 0.03479471120389701\n"
     ]
    },
    {
     "name": "stderr",
     "output_type": "stream",
     "text": [
      "  0%|▎                                                                                | 4/1000 [00:02<10:56,  1.52it/s]"
     ]
    },
    {
     "name": "stdout",
     "output_type": "stream",
     "text": [
      "epoch: 4, acc: 0.625, loss: 1.630, lr: 0.02857959416976279\n"
     ]
    },
    {
     "name": "stderr",
     "output_type": "stream",
     "text": [
      "  0%|▍                                                                                | 5/1000 [00:03<11:23,  1.46it/s]"
     ]
    },
    {
     "name": "stdout",
     "output_type": "stream",
     "text": [
      "epoch: 5, acc: 0.375, loss: 3.995, lr: 0.02424830261881668\n"
     ]
    },
    {
     "name": "stderr",
     "output_type": "stream",
     "text": [
      "  5%|███▉                                                                            | 49/1000 [00:31<10:10,  1.56it/s]\n"
     ]
    },
    {
     "ename": "KeyboardInterrupt",
     "evalue": "",
     "output_type": "error",
     "traceback": [
      "\u001b[1;31m---------------------------------------------------------------------------\u001b[0m",
      "\u001b[1;31mKeyboardInterrupt\u001b[0m                         Traceback (most recent call last)",
      "Cell \u001b[1;32mIn[58], line 5\u001b[0m\n\u001b[0;32m      1\u001b[0m optimizer_no_hid \u001b[38;5;241m=\u001b[39m SGD(learning\u001b[38;5;241m=\u001b[39m\u001b[38;5;241m0.1\u001b[39m, decay\u001b[38;5;241m=\u001b[39m\u001b[38;5;241m0.001\u001b[39m)\n\u001b[0;32m      2\u001b[0m mlp_no_hid \u001b[38;5;241m=\u001b[39m MLP(\n\u001b[0;32m      3\u001b[0m     ReLU, \u001b[38;5;241m0\u001b[39m, [], \u001b[38;5;241m3072\u001b[39m, \u001b[38;5;241m10\u001b[39m, optimizer\u001b[38;5;241m=\u001b[39moptimizer_no_hid, max_iters\u001b[38;5;241m=\u001b[39m\u001b[38;5;241m1000\u001b[39m, record_updates\u001b[38;5;241m=\u001b[39m\u001b[38;5;28;01mTrue\u001b[39;00m, enable_mini_batch\u001b[38;5;241m=\u001b[39m\u001b[38;5;28;01mTrue\u001b[39;00m, batch_size\u001b[38;5;241m=\u001b[39m\u001b[38;5;241m16\u001b[39m\n\u001b[0;32m      4\u001b[0m )\n\u001b[1;32m----> 5\u001b[0m \u001b[43mmlp_no_hid\u001b[49m\u001b[38;5;241;43m.\u001b[39;49m\u001b[43mfit\u001b[49m\u001b[43m(\u001b[49m\u001b[43mX1\u001b[49m\u001b[43m,\u001b[49m\u001b[43m \u001b[49m\u001b[43mY1_ohe\u001b[49m\u001b[43m)\u001b[49m\n",
      "Cell \u001b[1;32mIn[39], line 86\u001b[0m, in \u001b[0;36mMLP.fit\u001b[1;34m(self, X, y)\u001b[0m\n\u001b[0;32m     83\u001b[0m     \u001b[38;5;28;01mfor\u001b[39;00m mini_batch \u001b[38;5;129;01min\u001b[39;00m mini_batches:\n\u001b[0;32m     84\u001b[0m         x_mini, y_mini \u001b[38;5;241m=\u001b[39m mini_batch[:, :X\u001b[38;5;241m.\u001b[39mshape[\u001b[38;5;241m1\u001b[39m]], mini_batch[:,\n\u001b[0;32m     85\u001b[0m                                                      X\u001b[38;5;241m.\u001b[39mshape[\u001b[38;5;241m1\u001b[39m]:]\n\u001b[1;32m---> 86\u001b[0m         accuracy, loss \u001b[38;5;241m=\u001b[39m \u001b[38;5;28;43mself\u001b[39;49m\u001b[38;5;241;43m.\u001b[39;49m\u001b[43mtrain\u001b[49m\u001b[43m(\u001b[49m\u001b[43mx_mini\u001b[49m\u001b[43m,\u001b[49m\u001b[43m \u001b[49m\u001b[43my_mini\u001b[49m\u001b[43m)\u001b[49m\n\u001b[0;32m     87\u001b[0m \u001b[38;5;28;01melse\u001b[39;00m:\n\u001b[0;32m     88\u001b[0m     accuracy, loss \u001b[38;5;241m=\u001b[39m \u001b[38;5;28mself\u001b[39m\u001b[38;5;241m.\u001b[39mtrain(X, y)\n",
      "Cell \u001b[1;32mIn[39], line 114\u001b[0m, in \u001b[0;36mMLP.train\u001b[1;34m(self, X, y)\u001b[0m\n\u001b[0;32m    106\u001b[0m \u001b[38;5;28;01mdef\u001b[39;00m \u001b[38;5;21mtrain\u001b[39m(\u001b[38;5;28mself\u001b[39m, X, y):\n\u001b[0;32m    107\u001b[0m \u001b[38;5;250m    \u001b[39m\u001b[38;5;124;03m\"\"\"\u001b[39;00m\n\u001b[0;32m    108\u001b[0m \u001b[38;5;124;03m    Train network on data \\n\u001b[39;00m\n\u001b[0;32m    109\u001b[0m \u001b[38;5;124;03m    Perform a forward and backward pass through the network\u001b[39;00m\n\u001b[1;32m   (...)\u001b[0m\n\u001b[0;32m    112\u001b[0m \u001b[38;5;124;03m    :return: accuracy and loss of network on the data\u001b[39;00m\n\u001b[0;32m    113\u001b[0m \u001b[38;5;124;03m    \"\"\"\u001b[39;00m\n\u001b[1;32m--> 114\u001b[0m     loss \u001b[38;5;241m=\u001b[39m \u001b[38;5;28;43mself\u001b[39;49m\u001b[38;5;241;43m.\u001b[39;49m\u001b[43mforward\u001b[49m\u001b[43m(\u001b[49m\u001b[43mX\u001b[49m\u001b[43m,\u001b[49m\u001b[43m \u001b[49m\u001b[43my\u001b[49m\u001b[43m)\u001b[49m\n\u001b[0;32m    115\u001b[0m     accuracy \u001b[38;5;241m=\u001b[39m \u001b[38;5;28mself\u001b[39m\u001b[38;5;241m.\u001b[39mcalculate_accuracy(y)\n\u001b[0;32m    117\u001b[0m     \u001b[38;5;28mself\u001b[39m\u001b[38;5;241m.\u001b[39mbackward(y)\n",
      "Cell \u001b[1;32mIn[39], line 164\u001b[0m, in \u001b[0;36mMLP.forward\u001b[1;34m(self, X, y)\u001b[0m\n\u001b[0;32m    162\u001b[0m     prev_X \u001b[38;5;241m=\u001b[39m activation\u001b[38;5;241m.\u001b[39moutput\n\u001b[0;32m    163\u001b[0m \u001b[38;5;66;03m# Perform forward pass through output layer\u001b[39;00m\n\u001b[1;32m--> 164\u001b[0m \u001b[38;5;28;43mself\u001b[39;49m\u001b[38;5;241;43m.\u001b[39;49m\u001b[43moutput_layer\u001b[49m\u001b[38;5;241;43m.\u001b[39;49m\u001b[43mforward\u001b[49m\u001b[43m(\u001b[49m\u001b[43mprev_X\u001b[49m\u001b[43m)\u001b[49m\n\u001b[0;32m    165\u001b[0m loss \u001b[38;5;241m=\u001b[39m \u001b[38;5;28mself\u001b[39m\u001b[38;5;241m.\u001b[39moutput_activation\u001b[38;5;241m.\u001b[39mforward(\u001b[38;5;28mself\u001b[39m\u001b[38;5;241m.\u001b[39moutput_layer\u001b[38;5;241m.\u001b[39moutput,\n\u001b[0;32m    166\u001b[0m                                       y)\n\u001b[0;32m    167\u001b[0m \u001b[38;5;28;01mreturn\u001b[39;00m loss\n",
      "Cell \u001b[1;32mIn[16], line 24\u001b[0m, in \u001b[0;36mLayer.forward\u001b[1;34m(self, inputs)\u001b[0m\n\u001b[0;32m     18\u001b[0m \u001b[38;5;250m\u001b[39m\u001b[38;5;124;03m\"\"\"\u001b[39;00m\n\u001b[0;32m     19\u001b[0m \u001b[38;5;124;03mPerform a forward pass through the layer \\n\u001b[39;00m\n\u001b[0;32m     20\u001b[0m \u001b[38;5;124;03mSaves result in output\u001b[39;00m\n\u001b[0;32m     21\u001b[0m \u001b[38;5;124;03m:param inputs: input to pass through units\u001b[39;00m\n\u001b[0;32m     22\u001b[0m \u001b[38;5;124;03m\"\"\"\u001b[39;00m\n\u001b[0;32m     23\u001b[0m \u001b[38;5;28mself\u001b[39m\u001b[38;5;241m.\u001b[39minputs \u001b[38;5;241m=\u001b[39m inputs\n\u001b[1;32m---> 24\u001b[0m \u001b[38;5;28mself\u001b[39m\u001b[38;5;241m.\u001b[39moutput \u001b[38;5;241m=\u001b[39m \u001b[43mnp\u001b[49m\u001b[38;5;241;43m.\u001b[39;49m\u001b[43mdot\u001b[49m\u001b[43m(\u001b[49m\u001b[43minputs\u001b[49m\u001b[43m,\u001b[49m\u001b[43m \u001b[49m\u001b[38;5;28;43mself\u001b[39;49m\u001b[38;5;241;43m.\u001b[39;49m\u001b[43mw\u001b[49m\u001b[43m)\u001b[49m \u001b[38;5;241m+\u001b[39m \u001b[38;5;28mself\u001b[39m\u001b[38;5;241m.\u001b[39mb\n",
      "File \u001b[1;32m<__array_function__ internals>:200\u001b[0m, in \u001b[0;36mdot\u001b[1;34m(*args, **kwargs)\u001b[0m\n",
      "\u001b[1;31mKeyboardInterrupt\u001b[0m: "
     ]
    }
   ],
   "source": [
    "optimizer_no_hid = SGD(learning=0.1, decay=0.001)\n",
    "mlp_no_hid = MLP(\n",
    "    ReLU, 0, [], 3072, 10, optimizer=optimizer_no_hid, max_iters=1000, record_updates=True, enable_mini_batch=True, batch_size=16\n",
    ")\n",
    "mlp_no_hid.fit(X1, Y1_ohe)"
   ]
  },
  {
   "cell_type": "markdown",
   "metadata": {},
   "source": [
    "### One hidden layer"
   ]
  },
  {
   "cell_type": "code",
   "execution_count": null,
   "metadata": {
    "tags": []
   },
   "outputs": [],
   "source": [
    "optimizer_one_hid = SGD(learning=0.1, decay=0.001)\n",
    "mlp_one_hid = MLP(\n",
    "    ReLU, 1, [256], 3072, 10, optimizer=optimizer_one_hid, max_iters=1000, record_updates=True, enable_mini_batch=True, batch_size=16\n",
    ")\n",
    "mlp_one_hid.fit(X1, Y1_ohe)"
   ]
  },
  {
   "cell_type": "markdown",
   "metadata": {},
   "source": [
    "### Two hidden layers"
   ]
  },
  {
   "cell_type": "code",
   "execution_count": null,
   "metadata": {
    "tags": []
   },
   "outputs": [],
   "source": [
    "optimizer_two_hid = SGD(learning=0.1, decay=0.001)\n",
    "mlp_two_hid = MLP(\n",
    "    ReLU, 2, [256, 256], 3072, 10, optimizer=optimizer_two_hid, max_iters=1000, record_updates=True, enable_mini_batch=True, batch_size=16\n",
    ")\n",
    "mlp_two_hid.fit(X1, Y1_ohe)"
   ]
  },
  {
   "cell_type": "code",
   "execution_count": null,
   "metadata": {
    "tags": []
   },
   "outputs": [],
   "source": [
    "loss_histories = [mlp_no_hid.loss_history, mlp_one_hid.loss_history, mlp_two_hid.loss_history]\n",
    "for hist in loss_histories:\n",
    "    plt.plot(hist)\n",
    "plt.xlabel('epoch')\n",
    "plt.ylabel('loss')\n",
    "plt.legend(['0', '1', '2'], title='Number of hidden layers (256 units)')\n",
    "plt.title('Loss over time for different MLPs')"
   ]
  },
  {
   "cell_type": "code",
   "execution_count": null,
   "metadata": {
    "tags": []
   },
   "outputs": [],
   "source": [
    "accuracy_histories = [mlp_no_hid.accuracy_history, mlp_one_hid.accuracy_history, mlp_two_hid.accuracy_history]\n",
    "for hist in accuracy_histories:\n",
    "    plt.plot(hist)\n",
    "plt.xlabel('epoch')\n",
    "plt.ylabel('accuracy')\n",
    "plt.legend(['0', '1', '2'], title='Number of hidden layers (256 units)')\n",
    "plt.title('accuracy over time for different MLPs')"
   ]
  },
  {
   "cell_type": "code",
   "execution_count": null,
   "metadata": {
    "tags": []
   },
   "outputs": [],
   "source": [
    "optimizer_two_hid.iterations"
   ]
  },
  {
   "cell_type": "code",
   "execution_count": null,
   "metadata": {},
   "outputs": [],
   "source": []
  }
 ],
 "metadata": {
  "colab": {
   "provenance": [],
   "toc_visible": true
  },
  "kernelspec": {
   "display_name": "Python 3 (ipykernel)",
   "language": "python",
   "name": "python3"
  },
  "language_info": {
   "codemirror_mode": {
    "name": "ipython",
    "version": 3
   },
   "file_extension": ".py",
   "mimetype": "text/x-python",
   "name": "python",
   "nbconvert_exporter": "python",
   "pygments_lexer": "ipython3",
   "version": "3.10.8"
  },
  "toc-autonumbering": true,
  "toc-showcode": false,
  "toc-showmarkdowntxt": false,
  "toc-showtags": false
 },
 "nbformat": 4,
 "nbformat_minor": 4
}
